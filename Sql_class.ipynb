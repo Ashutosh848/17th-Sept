{
 "cells": [
  {
   "cell_type": "code",
   "execution_count": 2,
   "id": "9029c392-9133-4ca2-bada-bbce95cf9b83",
   "metadata": {},
   "outputs": [],
   "source": [
    "import pandas as pd\n",
    "import mysql.connector\n",
    "import sqlite3 as sql"
   ]
  },
  {
   "cell_type": "code",
   "execution_count": 7,
   "id": "1a88aded-95c6-4769-b64a-74048460c132",
   "metadata": {},
   "outputs": [
    {
     "name": "stdin",
     "output_type": "stream",
     "text": [
      " select * from employee\n",
      " select * from main\n"
     ]
    },
    {
     "name": "stderr",
     "output_type": "stream",
     "text": [
      "C:\\Users\\delli\\AppData\\Local\\Temp\\ipykernel_2656\\389856086.py:12: UserWarning: pandas only supports SQLAlchemy connectable (engine/connection) or database string URI or sqlite3 DBAPI2 connection. Other DBAPI2 objects are not tested. Please consider using SQLAlchemy.\n",
      "  self.df = pd.read_sql_query(self.query,conn)\n"
     ]
    }
   ],
   "source": [
    "class Main:\n",
    "    def __init__(self,username,host,password,database,query):\n",
    "        self.username = username\n",
    "        self.df = None\n",
    "        self.query = query\n",
    "        self.host = host\n",
    "        self.password = password\n",
    "        self.database = database\n",
    "    def connection(self):\n",
    "        conn = mysql.connector.connect(user = self.username,host = self.host,password = self.password,database = self.database)\n",
    "        cur = conn.cursor()\n",
    "        self.df = pd.read_sql_query(self.query,conn)\n",
    "        return self.df\n",
    "a = Main(\"root\",\"127.0.0.1\",\"ashu13579\",\"library\",input())\n",
    "b = Main(\"root\",\"127.0.0.1\",\"ashu13579\",\"library\",input())\n",
    "#a.connection()\n",
    "df = a.connection()\n",
    "df2 = b.connection()"
   ]
  },
  {
   "cell_type": "code",
   "execution_count": 8,
   "id": "3ecd0612-49af-45f0-b63c-9057efde54c8",
   "metadata": {},
   "outputs": [
    {
     "data": {
      "text/html": [
       "<div>\n",
       "<style scoped>\n",
       "    .dataframe tbody tr th:only-of-type {\n",
       "        vertical-align: middle;\n",
       "    }\n",
       "\n",
       "    .dataframe tbody tr th {\n",
       "        vertical-align: top;\n",
       "    }\n",
       "\n",
       "    .dataframe thead th {\n",
       "        text-align: right;\n",
       "    }\n",
       "</style>\n",
       "<table border=\"1\" class=\"dataframe\">\n",
       "  <thead>\n",
       "    <tr style=\"text-align: right;\">\n",
       "      <th></th>\n",
       "      <th>employeeID</th>\n",
       "      <th>FirstName</th>\n",
       "      <th>FamilyName</th>\n",
       "      <th>position</th>\n",
       "      <th>salary</th>\n",
       "      <th>HireDate</th>\n",
       "    </tr>\n",
       "  </thead>\n",
       "  <tbody>\n",
       "    <tr>\n",
       "      <th>0</th>\n",
       "      <td>101</td>\n",
       "      <td>John</td>\n",
       "      <td>Doe</td>\n",
       "      <td>Junior Developer</td>\n",
       "      <td>6600.0</td>\n",
       "      <td>2020-03-15</td>\n",
       "    </tr>\n",
       "    <tr>\n",
       "      <th>1</th>\n",
       "      <td>102</td>\n",
       "      <td>Jane</td>\n",
       "      <td>Smith</td>\n",
       "      <td>Manager</td>\n",
       "      <td>8250.0</td>\n",
       "      <td>2019-06-01</td>\n",
       "    </tr>\n",
       "    <tr>\n",
       "      <th>2</th>\n",
       "      <td>103</td>\n",
       "      <td>Emily</td>\n",
       "      <td>Johnson</td>\n",
       "      <td>Junior Developer</td>\n",
       "      <td>60000.0</td>\n",
       "      <td>2018-11-22</td>\n",
       "    </tr>\n",
       "    <tr>\n",
       "      <th>3</th>\n",
       "      <td>106</td>\n",
       "      <td>David</td>\n",
       "      <td>Wilson</td>\n",
       "      <td>Junior Developer</td>\n",
       "      <td>6820.0</td>\n",
       "      <td>2021-05-25</td>\n",
       "    </tr>\n",
       "    <tr>\n",
       "      <th>4</th>\n",
       "      <td>107</td>\n",
       "      <td>Laura</td>\n",
       "      <td>Martinez</td>\n",
       "      <td>Manager</td>\n",
       "      <td>70000.0</td>\n",
       "      <td>2017-12-15</td>\n",
       "    </tr>\n",
       "    <tr>\n",
       "      <th>5</th>\n",
       "      <td>109</td>\n",
       "      <td>Lisa</td>\n",
       "      <td>Thomas</td>\n",
       "      <td>Junior Developer</td>\n",
       "      <td>5500.0</td>\n",
       "      <td>2020-09-10</td>\n",
       "    </tr>\n",
       "    <tr>\n",
       "      <th>6</th>\n",
       "      <td>110</td>\n",
       "      <td>Kevin</td>\n",
       "      <td>Taylor</td>\n",
       "      <td>Junior Developer</td>\n",
       "      <td>7040.0</td>\n",
       "      <td>2022-04-05</td>\n",
       "    </tr>\n",
       "    <tr>\n",
       "      <th>7</th>\n",
       "      <td>19</td>\n",
       "      <td>Ashutosh</td>\n",
       "      <td>Tiwari</td>\n",
       "      <td>Data Engineer</td>\n",
       "      <td>50000.0</td>\n",
       "      <td>2020-01-02</td>\n",
       "    </tr>\n",
       "  </tbody>\n",
       "</table>\n",
       "</div>"
      ],
      "text/plain": [
       "   employeeID FirstName FamilyName          position   salary    HireDate\n",
       "0         101      John        Doe  Junior Developer   6600.0  2020-03-15\n",
       "1         102      Jane      Smith           Manager   8250.0  2019-06-01\n",
       "2         103     Emily    Johnson  Junior Developer  60000.0  2018-11-22\n",
       "3         106     David     Wilson  Junior Developer   6820.0  2021-05-25\n",
       "4         107     Laura   Martinez           Manager  70000.0  2017-12-15\n",
       "5         109      Lisa     Thomas  Junior Developer   5500.0  2020-09-10\n",
       "6         110     Kevin     Taylor  Junior Developer   7040.0  2022-04-05\n",
       "7          19  Ashutosh     Tiwari     Data Engineer  50000.0  2020-01-02"
      ]
     },
     "execution_count": 8,
     "metadata": {},
     "output_type": "execute_result"
    }
   ],
   "source": [
    "df"
   ]
  },
  {
   "cell_type": "code",
   "execution_count": 12,
   "id": "f90f30f6-26ce-4905-b9e9-09ffc3aba31f",
   "metadata": {},
   "outputs": [
    {
     "ename": "TypeError",
     "evalue": "read_sql_query() missing 1 required positional argument: 'con'",
     "output_type": "error",
     "traceback": [
      "\u001b[1;31m---------------------------------------------------------------------------\u001b[0m",
      "\u001b[1;31mTypeError\u001b[0m                                 Traceback (most recent call last)",
      "Cell \u001b[1;32mIn[12], line 1\u001b[0m\n\u001b[1;32m----> 1\u001b[0m pd\u001b[38;5;241m.\u001b[39mread_sql_query(\u001b[38;5;124m'\u001b[39m\u001b[38;5;124mselect * from employee\u001b[39m\u001b[38;5;124m'\u001b[39m)\n",
      "\u001b[1;31mTypeError\u001b[0m: read_sql_query() missing 1 required positional argument: 'con'"
     ]
    }
   ],
   "source": []
  },
  {
   "cell_type": "code",
   "execution_count": null,
   "id": "1b19a63e-ae0e-4250-900e-c5a7cebc36f4",
   "metadata": {},
   "outputs": [],
   "source": []
  }
 ],
 "metadata": {
  "kernelspec": {
   "display_name": "Python 3 (ipykernel)",
   "language": "python",
   "name": "python3"
  },
  "language_info": {
   "codemirror_mode": {
    "name": "ipython",
    "version": 3
   },
   "file_extension": ".py",
   "mimetype": "text/x-python",
   "name": "python",
   "nbconvert_exporter": "python",
   "pygments_lexer": "ipython3",
   "version": "3.11.7"
  }
 },
 "nbformat": 4,
 "nbformat_minor": 5
}
